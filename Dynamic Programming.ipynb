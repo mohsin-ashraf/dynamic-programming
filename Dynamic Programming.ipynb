{
 "cells": [
  {
   "cell_type": "markdown",
   "metadata": {},
   "source": [
    "## Dynamic Programming Exercises\n",
    "\n",
    "These programming exercises taken from [this](https://www.udemy.com/course/dynamic-programming-i/) course and are being used to understand the recursive nature of problems and solving them using dynamic programming. "
   ]
  },
  {
   "cell_type": "markdown",
   "metadata": {},
   "source": [
    "### Problem 1\n",
    "\n",
    "Count the number of ways to climbe the stairs given you can climbe 1 step at a time or 2 steps at a time.\n",
    "For example if there are 4 stairs then the number of ways you can climbe the stairs are given below.\n",
    "\n",
    "- Climbe 1 step at a time four times.\n",
    "- Climbe 1 step at a time 2 times and then climbe 2 steps at once.\n",
    "- Climbe 1 step then climbe 2 steps at once and then climbe 1 step.\n",
    "- Climbe 2 steps at once and then climbe 1 step at a time for two times.\n",
    "- Climbe 2 steps two times.\n",
    "\n",
    "Write recursive and dynamic programming solution for the above mentioned problem"
   ]
  },
  {
   "cell_type": "code",
   "execution_count": 1,
   "metadata": {},
   "outputs": [],
   "source": [
    "# Recusive solution.\n",
    "def climbe_stairs(n_stairs):\n",
    "    if n_stairs == 1: return 1 # If there is only one stair then their is only one way to climbe it.\n",
    "    if n_stairs == 2: return 2 # If there are two stairs then there are two ways to climbe the stairs.\n",
    "    return climbe_stairs(n_stairs - 1) + climbe_stairs(n_stairs - 2)"
   ]
  },
  {
   "cell_type": "code",
   "execution_count": 2,
   "metadata": {},
   "outputs": [
    {
     "name": "stdout",
     "output_type": "stream",
     "text": [
      "Number of ways to climbe 5 are: 8\n"
     ]
    }
   ],
   "source": [
    "n_stairs = 5\n",
    "print (f\"Number of ways to climbe {n_stairs} are: {climbe_stairs(n_stairs)}\")"
   ]
  },
  {
   "cell_type": "code",
   "execution_count": 3,
   "metadata": {},
   "outputs": [],
   "source": [
    "# Dynamic Programming solution.\n",
    "def climbe_stairs_dp(n_stairs):\n",
    "    stairs = [0] * (n_stairs + 1) # To make the calculations easy.\n",
    "    stairs[1] = 1 # If there is only one stair then their is only one way to climbe it.\n",
    "    stairs[2] = 2 # If there are two stairs then there are two ways to climbe the stairs.\n",
    "    for i in range(3,n_stairs+1):\n",
    "        stairs[i] = stairs[i-1] + stairs[i-2]\n",
    "    return stairs[n_stairs]"
   ]
  },
  {
   "cell_type": "code",
   "execution_count": 4,
   "metadata": {},
   "outputs": [
    {
     "name": "stdout",
     "output_type": "stream",
     "text": [
      "Number of ways to climbe 5 are: 8\n"
     ]
    }
   ],
   "source": [
    "n_stairs = 5\n",
    "print (f\"Number of ways to climbe {n_stairs} are: {climbe_stairs_dp(n_stairs)}\")"
   ]
  },
  {
   "cell_type": "markdown",
   "metadata": {},
   "source": [
    "### Performance check of both approaches"
   ]
  },
  {
   "cell_type": "code",
   "execution_count": 5,
   "metadata": {},
   "outputs": [
    {
     "name": "stdout",
     "output_type": "stream",
     "text": [
      "12.2 ms ± 428 µs per loop (mean ± std. dev. of 7 runs, 100 loops each)\n"
     ]
    }
   ],
   "source": [
    "%%timeit\n",
    "climbe_stairs(25)"
   ]
  },
  {
   "cell_type": "code",
   "execution_count": 6,
   "metadata": {},
   "outputs": [
    {
     "name": "stdout",
     "output_type": "stream",
     "text": [
      "1.93 µs ± 27.4 ns per loop (mean ± std. dev. of 7 runs, 100000 loops each)\n"
     ]
    }
   ],
   "source": [
    "%%timeit\n",
    "climbe_stairs_dp(25)"
   ]
  },
  {
   "cell_type": "markdown",
   "metadata": {},
   "source": [
    "Clearly the dynamic programming outperformed the recursive solution interms of performance."
   ]
  },
  {
   "cell_type": "markdown",
   "metadata": {},
   "source": [
    "### Problem 2\n",
    "Given a rod of length __n__ and prices __P[i]__ for i = 1,2,...,n, where __P[i]__ is the price of a rod of length __i__. Find the maximum total revenue you can make by cutting and selling the rod (Assuming no cost for cutting the rod).\n",
    "\n",
    "Write two recursive and dynamic programming solution for the above mentioned problem"
   ]
  },
  {
   "cell_type": "code",
   "execution_count": 7,
   "metadata": {},
   "outputs": [],
   "source": [
    "#         1  2  3  4   5  6   7  8   9\n",
    "prices = [1, 3, 5, 6, 11, 4, 13, 12, 2]"
   ]
  },
  {
   "cell_type": "code",
   "execution_count": 8,
   "metadata": {},
   "outputs": [],
   "source": [
    "# Recursive Solution.\n",
    "def max_revenue(length,list_of_prices):\n",
    "    if length == 0: return 0\n",
    "    max_price = -1\n",
    "    for i in range(0,length):\n",
    "        temp_price = list_of_prices[length - i - 1] + max_revenue(i,list_of_prices)\n",
    "        if temp_price > max_price:\n",
    "            max_price = temp_price\n",
    "    return max_price"
   ]
  },
  {
   "cell_type": "code",
   "execution_count": 9,
   "metadata": {},
   "outputs": [
    {
     "name": "stdout",
     "output_type": "stream",
     "text": [
      "Number of ways to climbe 8 are: 16\n"
     ]
    }
   ],
   "source": [
    "length = 8\n",
    "print (f\"Number of ways to climbe {length} are: {max_revenue(length,prices)}\")"
   ]
  },
  {
   "cell_type": "code",
   "execution_count": 10,
   "metadata": {},
   "outputs": [],
   "source": [
    "# Dynamic programming solution.\n",
    "def max_revenue_dp(length, list_of_prices):\n",
    "    R = [0] * (length + 1)\n",
    "    for i in range(1,length):\n",
    "        max_value = - 1\n",
    "        for j in range(1, i):\n",
    "            temp_price = list_of_prices[j] + R[i-j]\n",
    "            if temp_price > max_value:\n",
    "                max_value = temp_price\n",
    "        R[i] = max_value\n",
    "    return R[length]"
   ]
  },
  {
   "cell_type": "code",
   "execution_count": 11,
   "metadata": {},
   "outputs": [
    {
     "name": "stdout",
     "output_type": "stream",
     "text": [
      "Number of ways to climbe 8 are: 16\n"
     ]
    }
   ],
   "source": [
    "length = 8\n",
    "print (f\"Number of ways to climbe {length} are: {max_revenue(length,prices)}\")"
   ]
  },
  {
   "cell_type": "markdown",
   "metadata": {},
   "source": [
    "### Performance check of both approaches"
   ]
  },
  {
   "cell_type": "code",
   "execution_count": 12,
   "metadata": {},
   "outputs": [
    {
     "name": "stdout",
     "output_type": "stream",
     "text": [
      "49.9 µs ± 105 ns per loop (mean ± std. dev. of 7 runs, 10000 loops each)\n"
     ]
    }
   ],
   "source": [
    "%%timeit\n",
    "max_revenue(length,prices)"
   ]
  },
  {
   "cell_type": "code",
   "execution_count": 13,
   "metadata": {},
   "outputs": [
    {
     "name": "stdout",
     "output_type": "stream",
     "text": [
      "2.62 µs ± 14.5 ns per loop (mean ± std. dev. of 7 runs, 100000 loops each)\n"
     ]
    }
   ],
   "source": [
    "%%timeit\n",
    "max_revenue_dp(length,prices)"
   ]
  },
  {
   "cell_type": "markdown",
   "metadata": {},
   "source": [
    "Clearly the dynamic programming outperformed the recursive solution interms of performance."
   ]
  }
 ],
 "metadata": {
  "kernelspec": {
   "display_name": "Python 3",
   "language": "python",
   "name": "python3"
  },
  "language_info": {
   "codemirror_mode": {
    "name": "ipython",
    "version": 3
   },
   "file_extension": ".py",
   "mimetype": "text/x-python",
   "name": "python",
   "nbconvert_exporter": "python",
   "pygments_lexer": "ipython3",
   "version": "3.6.9"
  }
 },
 "nbformat": 4,
 "nbformat_minor": 4
}
