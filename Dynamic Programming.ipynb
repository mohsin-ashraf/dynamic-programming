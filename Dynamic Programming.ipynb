{
 "cells": [
  {
   "cell_type": "markdown",
   "metadata": {},
   "source": [
    "## Dynamic Programming Exercises\n",
    "\n",
    "These programming exercises taken from [this](https://www.udemy.com/course/dynamic-programming-i/) course and are being used to understand the recursive nature of problems and solving them using dynamic programming. "
   ]
  },
  {
   "cell_type": "markdown",
   "metadata": {},
   "source": [
    "### Problem 1\n",
    "\n",
    "Count the number of ways to climbe the stairs given you can climbe 1 step at a time or 2 steps at a time.\n",
    "For example if there are 4 stairs then the number of ways you can climbe the stairs are given below.\n",
    "\n",
    "- Climbe 1 step at a time four times.\n",
    "- Climbe 1 step at a time 2 times and then climbe 2 steps at once.\n",
    "- Climbe 1 step then climbe 2 steps at once and then climbe 1 step.\n",
    "- Climbe 2 steps at once and then climbe 1 step at a time for two times.\n",
    "- Climbe 2 steps two times.\n",
    "\n",
    "Write recursive and dynamic programming solution for the above mentioned problem"
   ]
  },
  {
   "cell_type": "code",
   "execution_count": 1,
   "metadata": {},
   "outputs": [],
   "source": [
    "# Recusive solution.\n",
    "def climbe_stairs(n_stairs):\n",
    "    if n_stairs == 1: return 1 # If there is only one stair then their is only one way to climbe it.\n",
    "    if n_stairs == 2: return 2 # If there are two stairs then there are two ways to climbe the stairs.\n",
    "    return climbe_stairs(n_stairs - 1) + climbe_stairs(n_stairs - 2)"
   ]
  },
  {
   "cell_type": "code",
   "execution_count": 2,
   "metadata": {},
   "outputs": [
    {
     "name": "stdout",
     "output_type": "stream",
     "text": [
      "Number of ways to climbe 5 are: 8\n"
     ]
    }
   ],
   "source": [
    "n_stairs = 5\n",
    "print (f\"Number of ways to climbe {n_stairs} are: {climbe_stairs(n_stairs)}\")"
   ]
  },
  {
   "cell_type": "code",
   "execution_count": 3,
   "metadata": {},
   "outputs": [],
   "source": [
    "# Dynamic Programming solution.\n",
    "def climbe_stairs_dp(n_stairs):\n",
    "    stairs = [0] * (n_stairs + 1) # To make the calculations easy.\n",
    "    stairs[1] = 1 # If there is only one stair then their is only one way to climbe it.\n",
    "    stairs[2] = 2 # If there are two stairs then there are two ways to climbe the stairs.\n",
    "    for i in range(3,n_stairs+1):\n",
    "        stairs[i] = stairs[i-1] + stairs[i-2]\n",
    "    return stairs[n_stairs]"
   ]
  },
  {
   "cell_type": "code",
   "execution_count": 4,
   "metadata": {},
   "outputs": [
    {
     "name": "stdout",
     "output_type": "stream",
     "text": [
      "Number of ways to climbe 5 are: 8\n"
     ]
    }
   ],
   "source": [
    "n_stairs = 5\n",
    "print (f\"Number of ways to climbe {n_stairs} are: {climbe_stairs_dp(n_stairs)}\")"
   ]
  },
  {
   "cell_type": "markdown",
   "metadata": {},
   "source": [
    "### Performance check of both approaches"
   ]
  },
  {
   "cell_type": "code",
   "execution_count": 5,
   "metadata": {},
   "outputs": [
    {
     "name": "stdout",
     "output_type": "stream",
     "text": [
      "12 ms ± 522 µs per loop (mean ± std. dev. of 7 runs, 100 loops each)\n"
     ]
    }
   ],
   "source": [
    "%%timeit\n",
    "climbe_stairs(25)"
   ]
  },
  {
   "cell_type": "code",
   "execution_count": 6,
   "metadata": {},
   "outputs": [
    {
     "name": "stdout",
     "output_type": "stream",
     "text": [
      "1.88 µs ± 8.1 ns per loop (mean ± std. dev. of 7 runs, 1000000 loops each)\n"
     ]
    }
   ],
   "source": [
    "%%timeit\n",
    "climbe_stairs_dp(25)"
   ]
  },
  {
   "cell_type": "markdown",
   "metadata": {},
   "source": [
    "Clearly the dynamic programming outperformed the recursive solution interms of performance."
   ]
  },
  {
   "cell_type": "markdown",
   "metadata": {},
   "source": [
    "### Problem 2\n",
    "Given a rod of length __n__ and prices __P[i]__ for i = 1,2,...,n, where __P[i]__ is the price of a rod of length __i__. Find the maximum total revenue you can make by cutting and selling the rod (Assuming no cost for cutting the rod).\n",
    "\n",
    "Write two recursive and dynamic programming solution for the above mentioned problem"
   ]
  },
  {
   "cell_type": "code",
   "execution_count": 7,
   "metadata": {},
   "outputs": [],
   "source": [
    "#         1  2  3  4   5  6   7  8   9\n",
    "prices = [1, 3, 5, 6, 11, 4, 13, 12, 2]"
   ]
  },
  {
   "cell_type": "code",
   "execution_count": 8,
   "metadata": {},
   "outputs": [],
   "source": [
    "# Recursive Solution.\n",
    "def max_revenue(length,list_of_prices):\n",
    "    if length == 0: return 0\n",
    "    max_price = -1\n",
    "    for i in range(0,length):\n",
    "        temp_price = list_of_prices[length - i - 1] + max_revenue(i,list_of_prices)\n",
    "        if temp_price > max_price:\n",
    "            max_price = temp_price\n",
    "    return max_price"
   ]
  },
  {
   "cell_type": "code",
   "execution_count": 9,
   "metadata": {},
   "outputs": [
    {
     "name": "stdout",
     "output_type": "stream",
     "text": [
      "Maximum revenue possible with a rod of length 8 is: 16\n"
     ]
    }
   ],
   "source": [
    "length = 8\n",
    "print (f\"Maximum revenue possible with a rod of length {length} is: {max_revenue(length,prices)}\")"
   ]
  },
  {
   "cell_type": "code",
   "execution_count": 10,
   "metadata": {},
   "outputs": [],
   "source": [
    "# Dynamic programming solution.\n",
    "def max_revenue_dp(length, list_of_prices):\n",
    "    R = [0] * (length + 1)\n",
    "    for i in range(1,length):\n",
    "        max_value = - 1\n",
    "        for j in range(1, i):\n",
    "            temp_price = list_of_prices[j] + R[i-j]\n",
    "            if temp_price > max_value:\n",
    "                max_value = temp_price\n",
    "        R[i] = max_value\n",
    "    return R[length]"
   ]
  },
  {
   "cell_type": "code",
   "execution_count": 11,
   "metadata": {},
   "outputs": [
    {
     "name": "stdout",
     "output_type": "stream",
     "text": [
      "Maximum revenue possible with a rod of length 8 is: 16\n"
     ]
    }
   ],
   "source": [
    "length = 8\n",
    "print (f\"Maximum revenue possible with a rod of length {length} is: {max_revenue(length,prices)}\")"
   ]
  },
  {
   "cell_type": "markdown",
   "metadata": {},
   "source": [
    "### Performance check of both approaches"
   ]
  },
  {
   "cell_type": "code",
   "execution_count": 12,
   "metadata": {},
   "outputs": [
    {
     "name": "stdout",
     "output_type": "stream",
     "text": [
      "50.2 µs ± 1.31 µs per loop (mean ± std. dev. of 7 runs, 10000 loops each)\n"
     ]
    }
   ],
   "source": [
    "%%timeit\n",
    "max_revenue(length,prices)"
   ]
  },
  {
   "cell_type": "code",
   "execution_count": 13,
   "metadata": {},
   "outputs": [
    {
     "name": "stdout",
     "output_type": "stream",
     "text": [
      "2.72 µs ± 46.6 ns per loop (mean ± std. dev. of 7 runs, 100000 loops each)\n"
     ]
    }
   ],
   "source": [
    "%%timeit\n",
    "max_revenue_dp(length,prices)"
   ]
  },
  {
   "cell_type": "markdown",
   "metadata": {},
   "source": [
    "Clearly the dynamic programming outperformed the recursive solution interms of performance."
   ]
  },
  {
   "cell_type": "markdown",
   "metadata": {},
   "source": [
    "### Problem 3\n",
    "\n",
    "You are a professional robber planning to rob houses along a street.Each house has a certiain amount of money stashed, the only constraint stopping you from robbing each of them is taht adjacent houses have security system connected and __it will automatically contact the police if two adjacent houses were broken into on the same night.__\n",
    "\n",
    "Given a list of non-negative integers representing the amount of money of each house. Determine the maximum amount of money you can rob tonight, without alerting the police.\n",
    "\n",
    "A[1....5] = {1, 2, 3, 4, 5}\n",
    "- Can Rob: 2, 4\n",
    "- Can Rob: 1, 3, 5\n",
    "- Can Rob: 1, 5\n",
    "- ...\n",
    "- ...\n",
    "\n",
    "and the list goes on."
   ]
  },
  {
   "cell_type": "code",
   "execution_count": 14,
   "metadata": {},
   "outputs": [],
   "source": [
    "# houses' money  1, 2, 3, 4, 5\n",
    "houses =        [3, 7, 12, 5, 7, 19, 2, 5, 17]"
   ]
  },
  {
   "cell_type": "code",
   "execution_count": 15,
   "metadata": {},
   "outputs": [],
   "source": [
    "# Recursive Solution\n",
    "def max_robbery(houses):\n",
    "    if len(houses) <= 2: return max(houses)\n",
    "    max_rob = -1\n",
    "    max_rob = max(max_rob, max_robbery(houses[:len(houses)-1]))\n",
    "    for i in range(len(houses)- 2, 0 , -1):\n",
    "        max_rob = max( max_rob, max_robbery(houses[:i]) + houses[len(houses)-1])\n",
    "    return max_rob"
   ]
  },
  {
   "cell_type": "code",
   "execution_count": 16,
   "metadata": {},
   "outputs": [
    {
     "name": "stdout",
     "output_type": "stream",
     "text": [
      "Maximum amount in a single night from [3, 7, 12, 5, 7, 19, 2, 5, 17] can be robbed 51\n"
     ]
    }
   ],
   "source": [
    "print (f\"Maximum amount in a single night from {houses} can be robbed {max_robbery(houses)}\")"
   ]
  },
  {
   "cell_type": "code",
   "execution_count": 17,
   "metadata": {},
   "outputs": [],
   "source": [
    "# Dynamic Programming Solution.\n",
    "def max_robbery_dp(houses):\n",
    "    max_rob = [0] * (len(houses) + 1)\n",
    "    max_rob[0] = houses[0] #If there is only one houses\n",
    "    max_rob[1] = max(houses[0],houses[1])#If there are only two houses\n",
    "    for i in range(2,len(houses)):\n",
    "        max_rob[i] = max_rob[i-1]# if we decide not to rob the ith house\n",
    "        for j in range(i-2, -1, -1):\n",
    "            max_rob[i] = max(max_rob[i],houses[i] + max_rob[j])\n",
    "    return max_rob[len(houses)-1]"
   ]
  },
  {
   "cell_type": "code",
   "execution_count": 18,
   "metadata": {},
   "outputs": [
    {
     "name": "stdout",
     "output_type": "stream",
     "text": [
      "Maximum amount in a single night from [3, 7, 12, 5, 7, 19, 2, 5, 17] can be robbed 51\n"
     ]
    }
   ],
   "source": [
    "print (f\"Maximum amount in a single night from {houses} can be robbed {max_robbery_dp(houses)}\")"
   ]
  },
  {
   "cell_type": "markdown",
   "metadata": {},
   "source": [
    "### Performance check of both approaches"
   ]
  },
  {
   "cell_type": "code",
   "execution_count": 19,
   "metadata": {},
   "outputs": [
    {
     "name": "stdout",
     "output_type": "stream",
     "text": [
      "78.9 µs ± 5.06 µs per loop (mean ± std. dev. of 7 runs, 10000 loops each)\n"
     ]
    }
   ],
   "source": [
    "%%timeit\n",
    "max_robbery(houses)"
   ]
  },
  {
   "cell_type": "code",
   "execution_count": 20,
   "metadata": {},
   "outputs": [
    {
     "name": "stdout",
     "output_type": "stream",
     "text": [
      "5.91 µs ± 76.5 ns per loop (mean ± std. dev. of 7 runs, 100000 loops each)\n"
     ]
    }
   ],
   "source": [
    "%%timeit\n",
    "max_robbery_dp(houses)"
   ]
  }
 ],
 "metadata": {
  "kernelspec": {
   "display_name": "Python 3",
   "language": "python",
   "name": "python3"
  },
  "language_info": {
   "codemirror_mode": {
    "name": "ipython",
    "version": 3
   },
   "file_extension": ".py",
   "mimetype": "text/x-python",
   "name": "python",
   "nbconvert_exporter": "python",
   "pygments_lexer": "ipython3",
   "version": "3.6.9"
  }
 },
 "nbformat": 4,
 "nbformat_minor": 4
}
